{
 "cells": [
  {
   "cell_type": "markdown",
   "metadata": {},
   "source": [
    "# Data processing: \n",
    "\n",
    "Curse: IS4242, Semster 1, 2024\n",
    "\n",
    "Team: LLP"
   ]
  },
  {
   "cell_type": "markdown",
   "metadata": {},
   "source": [
    "### Import packages"
   ]
  },
  {
   "cell_type": "code",
   "execution_count": 1,
   "metadata": {},
   "outputs": [],
   "source": [
    "import numpy as np\n",
    "import matplotlib.pyplot as plt\n",
    "import seaborn as sns\n",
    "import pandas as pd"
   ]
  },
  {
   "cell_type": "markdown",
   "metadata": {},
   "source": [
    "### Read original data "
   ]
  },
  {
   "cell_type": "code",
   "execution_count": null,
   "metadata": {},
   "outputs": [],
   "source": [
    "# import u.data\n",
    "data = pd.read_csv('data/u.data', sep='\\t', header=None)\n",
    "header = ['user_id', 'item_id', 'rating', 'timestamp']\n",
    "data.columns = header\n",
    "\n",
    "# import u.user\n",
    "user = pd.read_csv('data/u.user', sep='|', header=None)\n",
    "header = ['user_id', 'age', 'gender', 'occupation', 'zip_code']\n",
    "user.columns = header\n",
    "\n",
    "# import u.item\n",
    "item = pd.read_csv('data/u.item', sep='|', header=None, encoding='latin-1')\n",
    "genre = pd.read_csv('data/u.genre', sep='|', header=None)\n",
    "genre_list = genre[0].tolist()\n",
    "header = ['item_id', 'movie_title', 'release_date', 'video_release_date', 'IMDb_URL'] + genre_list\n",
    "item.columns = header"
   ]
  },
  {
   "cell_type": "markdown",
   "metadata": {},
   "source": [
    "### Merge data based on item_id and user_id"
   ]
  },
  {
   "cell_type": "markdown",
   "metadata": {},
   "source": []
  }
 ],
 "metadata": {
  "kernelspec": {
   "display_name": "LLP_IS4242-riF27pCP",
   "language": "python",
   "name": "python3"
  },
  "language_info": {
   "codemirror_mode": {
    "name": "ipython",
    "version": 3
   },
   "file_extension": ".py",
   "mimetype": "text/x-python",
   "name": "python",
   "nbconvert_exporter": "python",
   "pygments_lexer": "ipython3",
   "version": "3.11.7"
  }
 },
 "nbformat": 4,
 "nbformat_minor": 2
}
