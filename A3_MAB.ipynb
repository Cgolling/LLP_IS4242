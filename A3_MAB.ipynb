{
 "cells": [
  {
   "cell_type": "markdown",
   "metadata": {},
   "source": [
    "# Approach 3: MAB"
   ]
  },
  {
   "cell_type": "code",
   "execution_count": 1,
   "metadata": {},
   "outputs": [],
   "source": [
    "import numpy as np\n",
    "import pandas as pd\n",
    "import matplotlib.pyplot as plt\n",
    "import seaborn as sns\n",
    "\n",
    "\n",
    "from tqdm import tqdm"
   ]
  },
  {
   "cell_type": "code",
   "execution_count": 2,
   "metadata": {},
   "outputs": [],
   "source": [
    "# Fixate the global random seed\n",
    "SEED = 0\n",
    "np.random.seed(SEED)"
   ]
  },
  {
   "cell_type": "markdown",
   "metadata": {},
   "source": [
    "## Training"
   ]
  },
  {
   "cell_type": "markdown",
   "metadata": {},
   "source": [
    "###  Data Preprocessing\n",
    "Load the default-preprocessed training dataset: "
   ]
  },
  {
   "cell_type": "code",
   "execution_count": 3,
   "metadata": {},
   "outputs": [],
   "source": [
    "TRAIN_PATH = 'data/train.csv'\n",
    "\n",
    "df_train = pd.read_csv(TRAIN_PATH)"
   ]
  },
  {
   "cell_type": "code",
   "execution_count": 4,
   "metadata": {},
   "outputs": [
    {
     "name": "stdout",
     "output_type": "stream",
     "text": [
      "> Size of train df: 90570\n",
      "> Quick visual check of dataframe:\n"
     ]
    },
    {
     "data": {
      "text/html": [
       "<div>\n",
       "<style scoped>\n",
       "    .dataframe tbody tr th:only-of-type {\n",
       "        vertical-align: middle;\n",
       "    }\n",
       "\n",
       "    .dataframe tbody tr th {\n",
       "        vertical-align: top;\n",
       "    }\n",
       "\n",
       "    .dataframe thead th {\n",
       "        text-align: right;\n",
       "    }\n",
       "</style>\n",
       "<table border=\"1\" class=\"dataframe\">\n",
       "  <thead>\n",
       "    <tr style=\"text-align: right;\">\n",
       "      <th></th>\n",
       "      <th>user_id</th>\n",
       "      <th>item_id</th>\n",
       "      <th>rating</th>\n",
       "      <th>user_age</th>\n",
       "      <th>user_gender</th>\n",
       "      <th>user_occupation</th>\n",
       "      <th>user_zip</th>\n",
       "      <th>release_date</th>\n",
       "      <th>genre</th>\n",
       "    </tr>\n",
       "  </thead>\n",
       "  <tbody>\n",
       "    <tr>\n",
       "      <th>0</th>\n",
       "      <td>1</td>\n",
       "      <td>1</td>\n",
       "      <td>5</td>\n",
       "      <td>24</td>\n",
       "      <td>M</td>\n",
       "      <td>technician</td>\n",
       "      <td>Arizona</td>\n",
       "      <td>1995.0</td>\n",
       "      <td>Animation</td>\n",
       "    </tr>\n",
       "    <tr>\n",
       "      <th>1</th>\n",
       "      <td>1</td>\n",
       "      <td>2</td>\n",
       "      <td>3</td>\n",
       "      <td>24</td>\n",
       "      <td>M</td>\n",
       "      <td>technician</td>\n",
       "      <td>Arizona</td>\n",
       "      <td>1995.0</td>\n",
       "      <td>Action</td>\n",
       "    </tr>\n",
       "    <tr>\n",
       "      <th>2</th>\n",
       "      <td>1</td>\n",
       "      <td>3</td>\n",
       "      <td>4</td>\n",
       "      <td>24</td>\n",
       "      <td>M</td>\n",
       "      <td>technician</td>\n",
       "      <td>Arizona</td>\n",
       "      <td>1995.0</td>\n",
       "      <td>Thriller</td>\n",
       "    </tr>\n",
       "    <tr>\n",
       "      <th>3</th>\n",
       "      <td>1</td>\n",
       "      <td>4</td>\n",
       "      <td>3</td>\n",
       "      <td>24</td>\n",
       "      <td>M</td>\n",
       "      <td>technician</td>\n",
       "      <td>Arizona</td>\n",
       "      <td>1995.0</td>\n",
       "      <td>Action</td>\n",
       "    </tr>\n",
       "    <tr>\n",
       "      <th>4</th>\n",
       "      <td>1</td>\n",
       "      <td>5</td>\n",
       "      <td>3</td>\n",
       "      <td>24</td>\n",
       "      <td>M</td>\n",
       "      <td>technician</td>\n",
       "      <td>Arizona</td>\n",
       "      <td>1995.0</td>\n",
       "      <td>Crime</td>\n",
       "    </tr>\n",
       "  </tbody>\n",
       "</table>\n",
       "</div>"
      ],
      "text/plain": [
       "   user_id  item_id  rating  user_age user_gender user_occupation user_zip  \\\n",
       "0        1        1       5        24           M      technician  Arizona   \n",
       "1        1        2       3        24           M      technician  Arizona   \n",
       "2        1        3       4        24           M      technician  Arizona   \n",
       "3        1        4       3        24           M      technician  Arizona   \n",
       "4        1        5       3        24           M      technician  Arizona   \n",
       "\n",
       "   release_date      genre  \n",
       "0        1995.0  Animation  \n",
       "1        1995.0     Action  \n",
       "2        1995.0   Thriller  \n",
       "3        1995.0     Action  \n",
       "4        1995.0      Crime  "
      ]
     },
     "execution_count": 4,
     "metadata": {},
     "output_type": "execute_result"
    }
   ],
   "source": [
    "print(f\"> Size of train df: %d\" % len(df_train[\"rating\"]))\n",
    "print(\"> Quick visual check of dataframe:\") \n",
    "df_train.head()"
   ]
  },
  {
   "cell_type": "markdown",
   "metadata": {},
   "source": [
    "MAB specific restriction: only the movies (item_id) with 200 rating or more:\n"
   ]
  },
  {
   "cell_type": "code",
   "execution_count": 5,
   "metadata": {},
   "outputs": [],
   "source": [
    "df_train_counts = df_train['item_id'].value_counts()\n",
    "df_train_counts = df_train_counts[df_train_counts >= 200]\n",
    "\n",
    "df_200_mask = df_train['item_id'].isin(df_train_counts.index)\n",
    "\n",
    "df_train = df_train[df_200_mask]"
   ]
  },
  {
   "cell_type": "code",
   "execution_count": 6,
   "metadata": {},
   "outputs": [
    {
     "name": "stdout",
     "output_type": "stream",
     "text": [
      "> Check that now only items with >= 200 ratings in the training dataframe:\n",
      "> Min amounts of ratings per item present is 200.\n"
     ]
    }
   ],
   "source": [
    "print(\"> Check that now only items with >= 200 ratings in the training dataframe:\")\n",
    "print(f\"> Min amounts of ratings per item present is %d.\" % min(df_train['item_id'].value_counts()))\n"
   ]
  },
  {
   "cell_type": "markdown",
   "metadata": {},
   "source": [
    "Split the training data into the four focal groups. We run the MAB on each one of them.\n"
   ]
  },
  {
   "cell_type": "code",
   "execution_count": 7,
   "metadata": {},
   "outputs": [],
   "source": [
    "mask_young = df_train['user_age'] < 30\n",
    "mask_male = df_train['user_gender'] == \"M\"\n",
    "\n",
    "\n",
    "\n",
    "df_user_my = df_train[mask_male & mask_young]\n",
    "df_user_mo = df_train[mask_male & ~mask_young]\n",
    "df_user_fy = df_train[~mask_male & mask_young]\n",
    "df_user_fo = df_train[~mask_male & ~mask_young]\n",
    "\n",
    "df_user_groups = {\n",
    "    'my' : df_user_my,\n",
    "    'mo' : df_user_mo,\n",
    "    'fy' : df_user_fy,\n",
    "    'fo' : df_user_fo\n",
    "}\n"
   ]
  },
  {
   "cell_type": "code",
   "execution_count": 8,
   "metadata": {},
   "outputs": [
    {
     "data": {
      "text/html": [
       "<div>\n",
       "<style scoped>\n",
       "    .dataframe tbody tr th:only-of-type {\n",
       "        vertical-align: middle;\n",
       "    }\n",
       "\n",
       "    .dataframe tbody tr th {\n",
       "        vertical-align: top;\n",
       "    }\n",
       "\n",
       "    .dataframe thead th {\n",
       "        text-align: right;\n",
       "    }\n",
       "</style>\n",
       "<table border=\"1\" class=\"dataframe\">\n",
       "  <thead>\n",
       "    <tr style=\"text-align: right;\">\n",
       "      <th></th>\n",
       "      <th>user_id</th>\n",
       "      <th>item_id</th>\n",
       "      <th>rating</th>\n",
       "      <th>user_age</th>\n",
       "      <th>user_gender</th>\n",
       "      <th>user_occupation</th>\n",
       "      <th>user_zip</th>\n",
       "      <th>release_date</th>\n",
       "      <th>genre</th>\n",
       "    </tr>\n",
       "  </thead>\n",
       "  <tbody>\n",
       "    <tr>\n",
       "      <th>0</th>\n",
       "      <td>1</td>\n",
       "      <td>1</td>\n",
       "      <td>5</td>\n",
       "      <td>24</td>\n",
       "      <td>M</td>\n",
       "      <td>technician</td>\n",
       "      <td>Arizona</td>\n",
       "      <td>1995.0</td>\n",
       "      <td>Animation</td>\n",
       "    </tr>\n",
       "    <tr>\n",
       "      <th>6</th>\n",
       "      <td>1</td>\n",
       "      <td>7</td>\n",
       "      <td>4</td>\n",
       "      <td>24</td>\n",
       "      <td>M</td>\n",
       "      <td>technician</td>\n",
       "      <td>Arizona</td>\n",
       "      <td>1995.0</td>\n",
       "      <td>Drama</td>\n",
       "    </tr>\n",
       "    <tr>\n",
       "      <th>8</th>\n",
       "      <td>1</td>\n",
       "      <td>9</td>\n",
       "      <td>5</td>\n",
       "      <td>24</td>\n",
       "      <td>M</td>\n",
       "      <td>technician</td>\n",
       "      <td>Arizona</td>\n",
       "      <td>1995.0</td>\n",
       "      <td>Drama</td>\n",
       "    </tr>\n",
       "    <tr>\n",
       "      <th>10</th>\n",
       "      <td>1</td>\n",
       "      <td>11</td>\n",
       "      <td>2</td>\n",
       "      <td>24</td>\n",
       "      <td>M</td>\n",
       "      <td>technician</td>\n",
       "      <td>Arizona</td>\n",
       "      <td>1995.0</td>\n",
       "      <td>Crime</td>\n",
       "    </tr>\n",
       "    <tr>\n",
       "      <th>11</th>\n",
       "      <td>1</td>\n",
       "      <td>12</td>\n",
       "      <td>5</td>\n",
       "      <td>24</td>\n",
       "      <td>M</td>\n",
       "      <td>technician</td>\n",
       "      <td>Arizona</td>\n",
       "      <td>1995.0</td>\n",
       "      <td>Crime</td>\n",
       "    </tr>\n",
       "    <tr>\n",
       "      <th>...</th>\n",
       "      <td>...</td>\n",
       "      <td>...</td>\n",
       "      <td>...</td>\n",
       "      <td>...</td>\n",
       "      <td>...</td>\n",
       "      <td>...</td>\n",
       "      <td>...</td>\n",
       "      <td>...</td>\n",
       "      <td>...</td>\n",
       "    </tr>\n",
       "    <tr>\n",
       "      <th>90510</th>\n",
       "      <td>943</td>\n",
       "      <td>423</td>\n",
       "      <td>3</td>\n",
       "      <td>22</td>\n",
       "      <td>M</td>\n",
       "      <td>student</td>\n",
       "      <td>Texas</td>\n",
       "      <td>1982.0</td>\n",
       "      <td>Children's</td>\n",
       "    </tr>\n",
       "    <tr>\n",
       "      <th>90520</th>\n",
       "      <td>943</td>\n",
       "      <td>475</td>\n",
       "      <td>5</td>\n",
       "      <td>22</td>\n",
       "      <td>M</td>\n",
       "      <td>student</td>\n",
       "      <td>Texas</td>\n",
       "      <td>1996.0</td>\n",
       "      <td>Drama</td>\n",
       "    </tr>\n",
       "    <tr>\n",
       "      <th>90525</th>\n",
       "      <td>943</td>\n",
       "      <td>546</td>\n",
       "      <td>4</td>\n",
       "      <td>22</td>\n",
       "      <td>M</td>\n",
       "      <td>student</td>\n",
       "      <td>Texas</td>\n",
       "      <td>1996.0</td>\n",
       "      <td>Action</td>\n",
       "    </tr>\n",
       "    <tr>\n",
       "      <th>90529</th>\n",
       "      <td>943</td>\n",
       "      <td>568</td>\n",
       "      <td>3</td>\n",
       "      <td>22</td>\n",
       "      <td>M</td>\n",
       "      <td>student</td>\n",
       "      <td>Texas</td>\n",
       "      <td>1994.0</td>\n",
       "      <td>Action</td>\n",
       "    </tr>\n",
       "    <tr>\n",
       "      <th>90538</th>\n",
       "      <td>943</td>\n",
       "      <td>655</td>\n",
       "      <td>4</td>\n",
       "      <td>22</td>\n",
       "      <td>M</td>\n",
       "      <td>student</td>\n",
       "      <td>Texas</td>\n",
       "      <td>1986.0</td>\n",
       "      <td>Adventure</td>\n",
       "    </tr>\n",
       "  </tbody>\n",
       "</table>\n",
       "<p>9143 rows × 9 columns</p>\n",
       "</div>"
      ],
      "text/plain": [
       "       user_id  item_id  rating  user_age user_gender user_occupation  \\\n",
       "0            1        1       5        24           M      technician   \n",
       "6            1        7       4        24           M      technician   \n",
       "8            1        9       5        24           M      technician   \n",
       "10           1       11       2        24           M      technician   \n",
       "11           1       12       5        24           M      technician   \n",
       "...        ...      ...     ...       ...         ...             ...   \n",
       "90510      943      423       3        22           M         student   \n",
       "90520      943      475       5        22           M         student   \n",
       "90525      943      546       4        22           M         student   \n",
       "90529      943      568       3        22           M         student   \n",
       "90538      943      655       4        22           M         student   \n",
       "\n",
       "      user_zip  release_date       genre  \n",
       "0      Arizona        1995.0   Animation  \n",
       "6      Arizona        1995.0       Drama  \n",
       "8      Arizona        1995.0       Drama  \n",
       "10     Arizona        1995.0       Crime  \n",
       "11     Arizona        1995.0       Crime  \n",
       "...        ...           ...         ...  \n",
       "90510    Texas        1982.0  Children's  \n",
       "90520    Texas        1996.0       Drama  \n",
       "90525    Texas        1996.0      Action  \n",
       "90529    Texas        1994.0      Action  \n",
       "90538    Texas        1986.0   Adventure  \n",
       "\n",
       "[9143 rows x 9 columns]"
      ]
     },
     "execution_count": 8,
     "metadata": {},
     "output_type": "execute_result"
    }
   ],
   "source": [
    "df_user_groups['my']"
   ]
  },
  {
   "cell_type": "code",
   "execution_count": 9,
   "metadata": {},
   "outputs": [],
   "source": [
    "# TODO generalise to all four groups. For development purposes we start by restricting ourselves to only the `my` dataframe."
   ]
  },
  {
   "cell_type": "code",
   "execution_count": 10,
   "metadata": {},
   "outputs": [],
   "source": [
    "df = df_user_my.copy(deep=True)"
   ]
  },
  {
   "cell_type": "markdown",
   "metadata": {},
   "source": [
    "Get rid of the unneccesary data. This includes the user and movie attributes that are not their ids or the rating. This, because we only care about the information: which user (user_id) likes (rating >= 4) which movie (item_id)."
   ]
  },
  {
   "cell_type": "code",
   "execution_count": 11,
   "metadata": {},
   "outputs": [
    {
     "name": "stdout",
     "output_type": "stream",
     "text": [
      "Dataframe: `my`\n",
      "       user_id  item_id  rating\n",
      "0            1        1       5\n",
      "6            1        7       4\n",
      "8            1        9       5\n",
      "10           1       11       2\n",
      "11           1       12       5\n",
      "...        ...      ...     ...\n",
      "90510      943      423       3\n",
      "90520      943      475       5\n",
      "90525      943      546       4\n",
      "90529      943      568       3\n",
      "90538      943      655       4\n",
      "\n",
      "[9143 rows x 3 columns]\n"
     ]
    }
   ],
   "source": [
    "df.drop(\n",
    "    columns=['user_age','user_gender','user_occupation','user_zip','release_date','genre'], inplace=True\n",
    "    )\n",
    "print(\"Dataframe: `my`\")\n",
    "print(df)"
   ]
  },
  {
   "cell_type": "markdown",
   "metadata": {},
   "source": [
    "Convert the rating column into a \"liked\" column:"
   ]
  },
  {
   "cell_type": "code",
   "execution_count": 12,
   "metadata": {},
   "outputs": [],
   "source": [
    "df['liked'] = df['rating'] >= 4 \n",
    "df.drop(\n",
    "    columns=['rating'], \n",
    "    inplace=True\n",
    "    )"
   ]
  },
  {
   "cell_type": "code",
   "execution_count": 13,
   "metadata": {},
   "outputs": [
    {
     "name": "stdout",
     "output_type": "stream",
     "text": [
      "<class 'pandas.core.frame.DataFrame'>\n",
      "Index: 9143 entries, 0 to 90538\n",
      "Data columns (total 3 columns):\n",
      " #   Column   Non-Null Count  Dtype\n",
      "---  ------   --------------  -----\n",
      " 0   user_id  9143 non-null   int64\n",
      " 1   item_id  9143 non-null   int64\n",
      " 2   liked    9143 non-null   bool \n",
      "dtypes: bool(1), int64(2)\n",
      "memory usage: 223.2 KB\n"
     ]
    }
   ],
   "source": [
    "df.head()\n",
    "df.info()"
   ]
  },
  {
   "cell_type": "markdown",
   "metadata": {},
   "source": [
    "#### Define MAB Structure"
   ]
  },
  {
   "cell_type": "markdown",
   "metadata": {},
   "source": [
    "Modyfing the MAB replay trainer implemented in the tutorial from week 6:"
   ]
  },
  {
   "cell_type": "code",
   "execution_count": 28,
   "metadata": {},
   "outputs": [],
   "source": [
    "# _tuple_tries = None\n",
    "# _item_hit_counter = None\n",
    "\n",
    "class MAB_replayer(object):\n",
    "    \"\"\" Assumptions \n",
    "        -   the reward database is freshly reindexed (i.e. discrete 0,1,.. without jumps)\n",
    "            => used when indexing into the user/item column\n",
    "            \n",
    "    \"\"\"\n",
    "    \n",
    "    \n",
    "    \n",
    "    def __init__(self, epsilon, \n",
    "                 reward_database, \n",
    "                 n_recommendations,\n",
    "                 item_col_name=\"item_id\", user_col_name = \"user_id\", reward_col_name = \"liked\",\n",
    "                 n_iterations = 1):\n",
    "        \n",
    "        print(\"> Starting MAB machine.\")\n",
    "        ''' Save arguments to object-instance '''\n",
    "        self.epsilon = epsilon  # greediness\n",
    "        self.reward_database = reward_database  # used to access the ratings\n",
    "        self.item_col_name = item_col_name  # header name of item column in that db\n",
    "        self.user_col_name = user_col_name  # header name of user column in that db\n",
    "        self.reward_col_name = reward_col_name\n",
    "        self.n_recommendations = n_recommendations  # number of recs for training the MAB machine\n",
    "        self.n_iterations = n_iterations  # number of iterations performed subsequently to reduce variance; investigate statistical differences # TODO [analyse, investigate]\n",
    "        \n",
    "        ''' Setup subviews of interest '''\n",
    "        self.items = self.reward_database[self.item_col_name].unique()\n",
    "        self.items.sort()\n",
    "        self.n_items = len(self.items)\n",
    "        \n",
    "        self.users = self.reward_database[self.user_col_name].unique()\n",
    "        self.n_users = len(self.users)\n",
    "        \n",
    "        \n",
    "        print(\">> Initialized.\")\n",
    "    \n",
    "    def reset(self):\n",
    "        ''' (Re-)Initialise the learnt data for next iteration '''\n",
    "        self.item_counter_arr = np.zeros(self.n_items)  # count how often each item appeared\n",
    "        self.item_reward_arr = np.zeros(self.n_items)  # accumulated reward per item (in [0,1] range)\n",
    "        \n",
    "        print(\">>> Reset.\")\n",
    "    \n",
    "    \n",
    "    def random_user(self):\n",
    "        \"\"\" returns a user_id for a random user in the the user column of the review_database \"\"\"\n",
    "        user_idx = np.random.randint(self.n_users)\n",
    "        user_id = self.users[user_idx]\n",
    "        return user_id\n",
    "    \n",
    "    def select_item(self):\n",
    "        \"\"\" selects an item from the database with epsilon-greedy strategy \"\"\"\n",
    "        \n",
    "        outcome = np.random.uniform(low=0.0, high=1.0)\n",
    "        exploring = ( outcome < self.epsilon ) or \\\n",
    "            np.max(self.item_reward_arr == 0) # then we don't want to get the [0] index from iLoc but a random one  \n",
    "        \n",
    "        if exploring:\n",
    "            \"\"\" Explore \"\"\"\n",
    "            item_idx = np.random.randint(self.n_items)\n",
    "        else:\n",
    "            \"\"\" Exploit \"\"\"\n",
    "            item_idx = np.argmax(self.item_reward_arr)  # DONE check that indeed idx and not an id. would assume idx because array index need not correspond to e.g. the movie id.\n",
    "\n",
    "\n",
    "        return (item_idx, exploring)\n",
    "    \n",
    "        \n",
    "    def replay(self):\n",
    "        \n",
    "        log = []  # store the results from each iteration\n",
    "        _tuple_tries = np.zeros(self.n_recommendations)\n",
    "        _item_hit_counter = np.zeros(self.n_items)\n",
    "        \n",
    "        print(\">> Starting replay.\")\n",
    "        \n",
    "        for iteration in range(0, self.n_iterations):\n",
    "            ''' initialise '''\n",
    "            print(\">>> Iteration\", iteration)\n",
    "            self.reset()\n",
    "            \n",
    "            total_rewards = 0\n",
    "            like_fraction = np.zeros(self.n_recommendations)\n",
    "            \n",
    "            for rec_idx in tqdm(range(0, self.n_recommendations)):\n",
    "                found_train_tuple = False\n",
    "                \n",
    "                while not found_train_tuple:\n",
    "                    _tuple_tries[rec_idx] += 1\n",
    "                    \n",
    "                    user_id = self.random_user()\n",
    "                    item_idx, exploring = self.select_item()\n",
    "                    item_id = self.items[item_idx]\n",
    "\n",
    "                    # print(f\"> User_id: %i, Item_id: %i\" % (user_id, item_id))\n",
    "                    potential_reward = self.reward_database.query('{} == @item_id and {} == @user_id'.format(self.item_col_name, self.user_col_name))[self.reward_col_name]\n",
    "                    \n",
    "\n",
    "                    found_train_tuple = potential_reward.shape[0] > 0\n",
    "                \n",
    "                reward_value = potential_reward.iloc[0]\n",
    "                \n",
    "                _item_hit_counter[item_idx] += 1 # must be positioned down here because only if valid hit shall we count the hit\n",
    "                self.record_result(item_idx, reward_value)\n",
    "\n",
    "                \n",
    "                # Record metrics\n",
    "                total_rewards += reward_value\n",
    "                like_fraction[rec_idx] = total_rewards / (rec_idx + 1.0)\n",
    "\n",
    "                result = {}\n",
    "                result['iteration'] = iteration\n",
    "                result['recomendation'] = rec_idx # visit\n",
    "                result['item_id'] = item_id\n",
    "                result['user_id'] = user_id # visitor_id\n",
    "                result['exploration'] = exploring # boolean \n",
    "                result['reward'] = reward_value\n",
    "                result['total_reward'] = total_rewards\n",
    "                result['like_fraction'] = total_rewards * 1. / (rec_idx + 1) # fraction relevant \n",
    "\n",
    "                log.append(result)\n",
    "        \n",
    "        res_df = pd.DataFrame({'item_id': self.items, 'reward_ratio' : self.item_reward_arr})\n",
    "        \n",
    "        return (log, res_df, _item_hit_counter, _tuple_tries) \n",
    "    \n",
    "    def record_result(self, item_idx, reward):\n",
    "        \n",
    "        # Update the number of times the item has been sampled\n",
    "        self.item_counter_arr[item_idx] += 1\n",
    "\n",
    "        # Update the fraction of time the item has resulted in a reward\n",
    "        alpha = 1. / self.item_counter_arr[item_idx]\n",
    "        self.item_reward_arr[item_idx] += alpha * (reward - self.item_reward_arr[item_idx])\n",
    "    \n",
    "    \n",
    "# epsilon = 0.1\n",
    "# n_recommendations = 6000\n",
    "# n_iterations = 1\n",
    "\n",
    "# epsilon_05_results, df_reward_results = EpsilonTrainer(\n",
    "#     epsilon=epsilon,\n",
    "#     reward_database=df,\n",
    "#     n_recommendations=n_recommendations,\n",
    "#     n_iterations=n_iterations \n",
    "# ).replay()\n",
    "\n",
    "# df_epsilon_05_results = pd.DataFrame(epsilon_05_results)"
   ]
  },
  {
   "cell_type": "code",
   "execution_count": 29,
   "metadata": {},
   "outputs": [],
   "source": [
    "\n",
    "class Epsilon_Scenario():\n",
    "    def __init__(self, epsilon, recommendations, iterations, df) -> None:\n",
    "        self.epsilon = epsilon\n",
    "        self.recommendations = recommendations\n",
    "        self.iterations = iterations\n",
    "        \n",
    "        self.df = df\n",
    "        \n",
    "        \n",
    "        \n",
    "        self.MAB = MAB_replayer(\n",
    "            epsilon=self.epsilon,\n",
    "            reward_database=self.df,\n",
    "            n_recommendations=self.recommendations,\n",
    "            n_iterations=self.iterations\n",
    "        )\n",
    "    \n",
    "    def run_experiment(self):\n",
    "        self.log, self.item_ratios, self.item_hit_counter, self.tuple_tries = self.MAB.replay()\n",
    "        self.log_df_all = pd.DataFrame(self.log)\n",
    "        \n",
    "        \"\"\" average over iterations \"\"\"\n",
    "        self.log_df_mean = self.log_df_all.groupby('recomendation', as_index=False).mean()\n",
    "\n",
    "        \n",
    "    def show_item_hit_counter(self):\n",
    "        # print(self.item_ratios.item_id)\n",
    "        \n",
    "        DF = pd.DataFrame()\n",
    "        DF['items'] = self.item_ratios.item_id\n",
    "        DF['hits'] = self.item_hit_counter\n",
    "        \n",
    "        max_items = DF.sort_values(by='hits')[-5:]['items'].to_list()\n",
    "        max_item_indices = DF.sort_values(by='hits')[-5:].index.values.tolist()\n",
    "        \n",
    "        \n",
    "        _n = len(self.item_hit_counter)\n",
    "        sns.barplot(x=np.arange(_n), y=self.item_hit_counter)\n",
    "        plt.title(f'Item Hit Counter (epsilon = %.2f)' % self.epsilon)\n",
    "        plt.xlabel('Item Index')\n",
    "        plt.ylabel('Hit Count')\n",
    "        top_5_indices = max_item_indices\n",
    "        top_5_labels = max_items\n",
    "\n",
    "        plt.xticks(ticks=np.arange(_n), labels=[top_5_labels[top_5_indices.index(i)] if i in top_5_indices else \"\" for i in range(_n)], rotation=90)\n",
    "        plt.show()\n",
    "        \n",
    "    def show_item_selection(self):\n",
    "        plt.figure(figsize=(12, 8))\n",
    "        plt.scatter(self.log_df_all['recomendation'], self.log_df_all['item_id'], alpha=0.5, c='blue', s=10)\n",
    "        plt.title(f'Item Usage Over Recommendations (epsilon = %.2f)' % self.epsilon)\n",
    "        plt.xlabel('Recommendation Number')\n",
    "        plt.ylabel('Item ID')\n",
    "        plt.grid(True)\n",
    "        plt.show()\n",
    "\n",
    "    def show_percentage_liked(self):\n",
    "        fig, ax = plt.subplots(figsize=(8,6))\n",
    "\n",
    "        OFFSET = 0  # NOTE: offset of 10 elements to not start at 1 peak\n",
    "        # for (avg_results_df, style, label) in [(self.log_df_mean[OFFSET:], 'g-', \"epsilon 0.10\"), \n",
    "        #                                 (self.log_df_mean[OFFSET:], 'r--', \"epsilon 0.05\"),\n",
    "        #                                 ]:\n",
    "        \n",
    "        (avg_results_df, style, label) = self.log_df_mean[OFFSET:], 'g-', \"epsilon \"+str(self.epsilon)\n",
    "        \n",
    "        ax.plot(avg_results_df.recomendation, avg_results_df.like_fraction, style, linewidth=1.5, label=label)\n",
    "\n",
    "        ax.axhline(y=self.objective_best_ratio, color='k', linestyle=':', linewidth=1.5)\n",
    "\n",
    "        ax.set_title('Percentage of Liked Recommendations')\n",
    "        ax.set_xlabel('Recommendation #')\n",
    "        ax.set_ylabel('% of Recs Liked')\n",
    "\n",
    "        # ax.set_xticks(range(0,22000,5000))\n",
    "        # ax.set_ylim(0.2, 0.6)\n",
    "        # ax.set_yticks(np.arange(0.2, 0.7, 0.1))\n",
    "\n",
    "        # rescale the y-axis tick labels to show them as a percentage\n",
    "        ax.set_yticklabels((ax.get_yticks()*100).astype(int))\n",
    "\n",
    "        ax.legend(\n",
    "                loc='lower right'\n",
    "                )\n",
    "\n",
    "        plt.tight_layout()\n",
    "        plt.show()\n",
    "    \n",
    "    def get_best_items(self):\n",
    "        # get number of ratings per item\n",
    "        _df = pd.DataFrame()\n",
    "        _df[\"total\"] = self.df.value_counts(\"item_id\")     \n",
    "        \n",
    "        # get number of liked per item\n",
    "        _df[\"liked\"] = self.df.groupby(\"item_id\").liked.sum()\n",
    "        \n",
    "        _df[\"ratio\"] = _df[\"liked\"] / _df[\"total\"]\n",
    "        _df.sort_values(\"ratio\", ascending=False, inplace=True)\n",
    "        \n",
    "        self.df_objective_item_ratios = _df.copy(deep=True)\n",
    "        # _df.sort_values(\"ratio\", ascending=False)[:1]\n",
    "        self.objective_best_ratio = self.df_objective_item_ratios.ratio.iloc[0]\n",
    "        print(\"best found ratio: \", self.objective_best_ratio)\n",
    "    \n",
    "    def compute_liked(self):\n",
    "        # finding the most liked movie (in percentage)\n",
    "        df_counted_per_item = self.df[\"item_id\"].value_counts().reset_index()\n",
    "        print(df_counted_per_item.head())\n",
    "        \n",
    "        _max = max(df_counted_per_item[\"count\"])\n",
    "        print(\"Max value is \", _max)\n",
    "\n",
    "        # Calculate the threshold for the top 25%\n",
    "        threshold = df_counted_per_item.quantile(0.75).iloc[1] # numerical value\n",
    "        print(\"Threshold is \", threshold)\n",
    "\n",
    "        # Filter DataFrame to get only rows with values in the top 25%\n",
    "        top_25_percent_df = df_counted_per_item[df_counted_per_item[\"count\"] >= threshold]\n",
    "\n",
    "        print(\"# df:\", len(df_counted_per_item), \";  # df.75:\", len(top_25_percent_df))\n",
    "\n",
    "    \n",
    "# E_05 = Epsilon_Scenario(0.05, 5000, 2, df)\n",
    "# E_05.run_experiment()\n",
    "# # E_05.show_item_hit_counter()\n",
    "# # E_05.show_item_selection()\n",
    "# # E_05.compute_liked()\n",
    "# E_05.get_best_items()\n",
    "# E_05.show_percentage_liked()"
   ]
  },
  {
   "cell_type": "code",
   "execution_count": 33,
   "metadata": {},
   "outputs": [
    {
     "name": "stdout",
     "output_type": "stream",
     "text": [
      "> Starting MAB machine.\n",
      ">> Initialized.\n",
      "> Starting MAB machine.\n",
      ">> Initialized.\n",
      "> Starting MAB machine.\n",
      ">> Initialized.\n",
      "> Starting MAB machine.\n",
      ">> Initialized.\n",
      "> Starting MAB machine.\n",
      ">> Initialized.\n",
      ">> Starting replay.\n",
      ">>> Iteration 0\n",
      ">>> Reset.\n"
     ]
    },
    {
     "name": "stderr",
     "output_type": "stream",
     "text": [
      "  0%|          | 0/6000 [00:00<?, ?it/s]"
     ]
    },
    {
     "name": "stderr",
     "output_type": "stream",
     "text": [
      "100%|██████████| 6000/6000 [00:19<00:00, 315.08it/s]\n"
     ]
    },
    {
     "name": "stdout",
     "output_type": "stream",
     "text": [
      ">>> Iteration 1\n",
      ">>> Reset.\n"
     ]
    },
    {
     "name": "stderr",
     "output_type": "stream",
     "text": [
      "100%|██████████| 6000/6000 [00:14<00:00, 415.68it/s]\n"
     ]
    },
    {
     "name": "stdout",
     "output_type": "stream",
     "text": [
      ">>> Iteration 2\n",
      ">>> Reset.\n"
     ]
    },
    {
     "name": "stderr",
     "output_type": "stream",
     "text": [
      "100%|██████████| 6000/6000 [00:13<00:00, 440.05it/s]\n"
     ]
    },
    {
     "name": "stdout",
     "output_type": "stream",
     "text": [
      "best found ratio:  0.9252336448598131\n",
      ">> Starting replay.\n",
      ">>> Iteration 0\n",
      ">>> Reset.\n"
     ]
    },
    {
     "name": "stderr",
     "output_type": "stream",
     "text": [
      "100%|██████████| 6000/6000 [00:13<00:00, 454.36it/s]\n"
     ]
    },
    {
     "name": "stdout",
     "output_type": "stream",
     "text": [
      ">>> Iteration 1\n",
      ">>> Reset.\n"
     ]
    },
    {
     "name": "stderr",
     "output_type": "stream",
     "text": [
      "100%|██████████| 6000/6000 [00:12<00:00, 472.23it/s]\n"
     ]
    },
    {
     "name": "stdout",
     "output_type": "stream",
     "text": [
      ">>> Iteration 2\n",
      ">>> Reset.\n"
     ]
    },
    {
     "name": "stderr",
     "output_type": "stream",
     "text": [
      "100%|██████████| 6000/6000 [00:13<00:00, 453.88it/s]\n"
     ]
    },
    {
     "name": "stdout",
     "output_type": "stream",
     "text": [
      "best found ratio:  0.9252336448598131\n",
      ">> Starting replay.\n",
      ">>> Iteration 0\n",
      ">>> Reset.\n"
     ]
    },
    {
     "name": "stderr",
     "output_type": "stream",
     "text": [
      "100%|██████████| 6000/6000 [00:12<00:00, 467.19it/s]\n"
     ]
    },
    {
     "name": "stdout",
     "output_type": "stream",
     "text": [
      ">>> Iteration 1\n",
      ">>> Reset.\n"
     ]
    },
    {
     "name": "stderr",
     "output_type": "stream",
     "text": [
      "100%|██████████| 6000/6000 [00:12<00:00, 466.03it/s]\n"
     ]
    },
    {
     "name": "stdout",
     "output_type": "stream",
     "text": [
      ">>> Iteration 2\n",
      ">>> Reset.\n"
     ]
    },
    {
     "name": "stderr",
     "output_type": "stream",
     "text": [
      "100%|██████████| 6000/6000 [00:12<00:00, 464.25it/s]\n"
     ]
    },
    {
     "name": "stdout",
     "output_type": "stream",
     "text": [
      "best found ratio:  0.9252336448598131\n",
      ">> Starting replay.\n",
      ">>> Iteration 0\n",
      ">>> Reset.\n"
     ]
    },
    {
     "name": "stderr",
     "output_type": "stream",
     "text": [
      "100%|██████████| 6000/6000 [00:12<00:00, 469.66it/s]\n"
     ]
    },
    {
     "name": "stdout",
     "output_type": "stream",
     "text": [
      ">>> Iteration 1\n",
      ">>> Reset.\n"
     ]
    },
    {
     "name": "stderr",
     "output_type": "stream",
     "text": [
      "100%|██████████| 6000/6000 [00:13<00:00, 430.35it/s]\n"
     ]
    },
    {
     "name": "stdout",
     "output_type": "stream",
     "text": [
      ">>> Iteration 2\n",
      ">>> Reset.\n"
     ]
    },
    {
     "name": "stderr",
     "output_type": "stream",
     "text": [
      "100%|██████████| 6000/6000 [00:13<00:00, 434.01it/s]\n"
     ]
    },
    {
     "name": "stdout",
     "output_type": "stream",
     "text": [
      "best found ratio:  0.9252336448598131\n",
      ">> Starting replay.\n",
      ">>> Iteration 0\n",
      ">>> Reset.\n"
     ]
    },
    {
     "name": "stderr",
     "output_type": "stream",
     "text": [
      "100%|██████████| 6000/6000 [00:13<00:00, 435.71it/s]\n"
     ]
    },
    {
     "name": "stdout",
     "output_type": "stream",
     "text": [
      ">>> Iteration 1\n",
      ">>> Reset.\n"
     ]
    },
    {
     "name": "stderr",
     "output_type": "stream",
     "text": [
      "100%|██████████| 6000/6000 [00:14<00:00, 423.25it/s]\n"
     ]
    },
    {
     "name": "stdout",
     "output_type": "stream",
     "text": [
      ">>> Iteration 2\n",
      ">>> Reset.\n"
     ]
    },
    {
     "name": "stderr",
     "output_type": "stream",
     "text": [
      "100%|██████████| 6000/6000 [00:13<00:00, 436.76it/s]\n",
      "C:\\Users\\Christopher Golling\\AppData\\Local\\Temp\\ipykernel_44048\\1031156874.py:53: UserWarning: set_ticklabels() should only be used with a fixed number of ticks, i.e. after set_ticks() or using a FixedLocator.\n",
      "  ax.set_yticklabels((ax.get_yticks()*100).astype(int))\n"
     ]
    },
    {
     "name": "stdout",
     "output_type": "stream",
     "text": [
      "best found ratio:  0.9252336448598131\n"
     ]
    },
    {
     "data": {
      "image/png": "[encoded data removed]",
      "text/plain": [
       "<Figure size 800x600 with 1 Axes>"
      ]
     },
     "metadata": {},
     "output_type": "display_data"
    }
   ],
   "source": [
    "class Evaluator():\n",
    "    def __init__(self, eps_arr, itr_arr, rec_arr, df_train, df_test) -> None:\n",
    "        self.eps_arr = eps_arr\n",
    "        self.itr_arr = itr_arr\n",
    "        self.rec_arr = rec_arr\n",
    "        \n",
    "        self.df_train = df_train\n",
    "        self.df_test =  df_test\n",
    "        \n",
    "        self.eps_scenarios = []\n",
    "        for j in range(len(self.eps_arr)):\n",
    "            self.eps_scenarios.append(\n",
    "                Epsilon_Scenario(\n",
    "                    epsilon=self.eps_arr[j],\n",
    "                    df=self.df_train, \n",
    "                    recommendations=self.rec_arr[j],\n",
    "                    iterations=self.itr_arr[j]\n",
    "                    )\n",
    "                )\n",
    "                \n",
    "         \n",
    "    def replay_all(self):\n",
    "        for E in self.eps_scenarios:\n",
    "            E.run_experiment()\n",
    "            E.get_best_items()\n",
    "            \n",
    "    def show_comparative_plot(self):\n",
    "        fig, ax = plt.subplots(figsize=(8,6))\n",
    "\n",
    "        OFFSET = 10  # NOTE: offset of 10 elements to not start at 1 peak\n",
    "        # for (avg_results_df, style, label) in [(self.log_df_mean[OFFSET:], 'g-', \"epsilon 0.10\"), \n",
    "        #                                 (self.log_df_mean[OFFSET:], 'r--', \"epsilon 0.05\"),\n",
    "        #                                 ]:\n",
    "        \n",
    "        line_styles = ['b-','r--','g-.', 'c:', 'm-', 'y--']\n",
    "        \n",
    "        for e_idx, E in enumerate(self.eps_scenarios):\n",
    "            (avg_results_df, style, label) = E.log_df_mean[OFFSET:], line_styles[e_idx], \"epsilon \"+str(E.epsilon)\n",
    "        \n",
    "            ax.plot(avg_results_df.recomendation, avg_results_df.like_fraction, style, linewidth=1.5, label=label)\n",
    "\n",
    "        ax.axhline(y=E.objective_best_ratio, color='k', linestyle=':', linewidth=1.5)\n",
    "\n",
    "        ax.set_title('Percentage of Liked Recommendations')\n",
    "        ax.set_xlabel('Recommendation #')\n",
    "        ax.set_ylabel('% of Recs Liked')\n",
    "\n",
    "        # ax.set_xticks(range(0,22000,5000))\n",
    "        # ax.set_ylim(0.2, 0.6)\n",
    "        # ax.set_yticks(np.arange(0.2, 0.7, 0.1))\n",
    "\n",
    "        # rescale the y-axis tick labels to show them as a percentage\n",
    "        ax.set_yticklabels((ax.get_yticks()*100).astype(int))\n",
    "\n",
    "        ax.legend(\n",
    "                loc='lower right'\n",
    "                )\n",
    "\n",
    "        plt.tight_layout()\n",
    "        plt.show()\n",
    "        \n",
    "            \n",
    "TEST_PATH = 'data/test.csv'\n",
    "df_test = pd.read_csv(TEST_PATH)\n",
    "\n",
    "eps_arr = [0.05, 0.1, 0.25, 0.5, 0.75]\n",
    "rec_arr = [6000 for _ in eps_arr]\n",
    "itr_arr = [3 for _ in eps_arr]\n",
    "\n",
    "EVAL = Evaluator(eps_arr, itr_arr, rec_arr, df, df_test)\n",
    "EVAL.replay_all()\n",
    "EVAL.show_comparative_plot()"
   ]
  },
  {
   "cell_type": "code",
   "execution_count": 35,
   "metadata": {},
   "outputs": [
    {
     "data": {
      "text/html": [
       "<div>\n",
       "<style scoped>\n",
       "    .dataframe tbody tr th:only-of-type {\n",
       "        vertical-align: middle;\n",
       "    }\n",
       "\n",
       "    .dataframe tbody tr th {\n",
       "        vertical-align: top;\n",
       "    }\n",
       "\n",
       "    .dataframe thead th {\n",
       "        text-align: right;\n",
       "    }\n",
       "</style>\n",
       "<table border=\"1\" class=\"dataframe\">\n",
       "  <thead>\n",
       "    <tr style=\"text-align: right;\">\n",
       "      <th></th>\n",
       "      <th>recomendation</th>\n",
       "      <th>iteration</th>\n",
       "      <th>item_id</th>\n",
       "      <th>user_id</th>\n",
       "      <th>exploration</th>\n",
       "      <th>reward</th>\n",
       "      <th>total_reward</th>\n",
       "      <th>like_fraction</th>\n",
       "    </tr>\n",
       "  </thead>\n",
       "  <tbody>\n",
       "    <tr>\n",
       "      <th>0</th>\n",
       "      <td>0</td>\n",
       "      <td>1.0</td>\n",
       "      <td>118.333333</td>\n",
       "      <td>770.000000</td>\n",
       "      <td>1.0</td>\n",
       "      <td>0.666667</td>\n",
       "      <td>0.666667</td>\n",
       "      <td>0.666667</td>\n",
       "    </tr>\n",
       "    <tr>\n",
       "      <th>1</th>\n",
       "      <td>1</td>\n",
       "      <td>1.0</td>\n",
       "      <td>366.333333</td>\n",
       "      <td>655.333333</td>\n",
       "      <td>1.0</td>\n",
       "      <td>0.666667</td>\n",
       "      <td>1.333333</td>\n",
       "      <td>0.666667</td>\n",
       "    </tr>\n",
       "    <tr>\n",
       "      <th>2</th>\n",
       "      <td>2</td>\n",
       "      <td>1.0</td>\n",
       "      <td>104.666667</td>\n",
       "      <td>629.000000</td>\n",
       "      <td>1.0</td>\n",
       "      <td>0.666667</td>\n",
       "      <td>2.000000</td>\n",
       "      <td>0.666667</td>\n",
       "    </tr>\n",
       "    <tr>\n",
       "      <th>3</th>\n",
       "      <td>3</td>\n",
       "      <td>1.0</td>\n",
       "      <td>287.000000</td>\n",
       "      <td>493.333333</td>\n",
       "      <td>1.0</td>\n",
       "      <td>0.666667</td>\n",
       "      <td>2.666667</td>\n",
       "      <td>0.666667</td>\n",
       "    </tr>\n",
       "    <tr>\n",
       "      <th>4</th>\n",
       "      <td>4</td>\n",
       "      <td>1.0</td>\n",
       "      <td>342.333333</td>\n",
       "      <td>159.333333</td>\n",
       "      <td>1.0</td>\n",
       "      <td>1.000000</td>\n",
       "      <td>3.666667</td>\n",
       "      <td>0.733333</td>\n",
       "    </tr>\n",
       "  </tbody>\n",
       "</table>\n",
       "</div>"
      ],
      "text/plain": [
       "   recomendation  iteration     item_id     user_id  exploration    reward  \\\n",
       "0              0        1.0  118.333333  770.000000          1.0  0.666667   \n",
       "1              1        1.0  366.333333  655.333333          1.0  0.666667   \n",
       "2              2        1.0  104.666667  629.000000          1.0  0.666667   \n",
       "3              3        1.0  287.000000  493.333333          1.0  0.666667   \n",
       "4              4        1.0  342.333333  159.333333          1.0  1.000000   \n",
       "\n",
       "   total_reward  like_fraction  \n",
       "0      0.666667       0.666667  \n",
       "1      1.333333       0.666667  \n",
       "2      2.000000       0.666667  \n",
       "3      2.666667       0.666667  \n",
       "4      3.666667       0.733333  "
      ]
     },
     "execution_count": 35,
     "metadata": {},
     "output_type": "execute_result"
    }
   ],
   "source": [
    "EVAL.eps_scenarios[0].log_df_mean.head()"
   ]
  },
  {
   "cell_type": "code",
   "execution_count": 42,
   "metadata": {},
   "outputs": [
    {
     "name": "stdout",
     "output_type": "stream",
     "text": [
      "Empty DataFrame\n",
      "Columns: [recomendation]\n",
      "Index: []\n"
     ]
    }
   ],
   "source": [
    "for E in EVAL.eps_scenarios:\n",
    "    # Create a dataframe with running totals of how many times each recommendation was taken\n",
    "    running_ttl = E.log_df_mean.query('iteration == 0') \\\n",
    "                                    .assign(selected=1) \\\n",
    "                                    .pivot(index='recomendation', columns='item_id', values='selected') \\\n",
    "                                    .fillna(0) \\\n",
    "                                    .cumsum(axis=0) \\\n",
    "                                    .reset_index()\n",
    "                                    \n",
    "    # # scale the value by the visit number to get turn the running total into a percentage\n",
    "    # running_ttl.iloc[:,1:] = running_ttl.iloc[:,1:].div((running_ttl.recomendation + 1)/100, axis=0)\n",
    "    \n",
    "    print(running_ttl)\n",
    "    \n",
    "    \n",
    "    break\n"
   ]
  },
  {
   "cell_type": "code",
   "execution_count": null,
   "metadata": {},
   "outputs": [],
   "source": [
    "fig, ax = plt.subplots(figsize=(10,8))\n",
    "\n",
    "ax.stackplot(ab_1k_running_ttl.visit,\n",
    "             ab_1k_running_ttl.iloc[:,1:11].T,\n",
    "             labels=[movie_names[x] for x in ab_1k_running_ttl.iloc[:,1:].columns.values],\n",
    "             colors=[color_map[x] for x in ab_1k_running_ttl.iloc[:,1:].columns.values]\n",
    "            )\n",
    "\n",
    "# ax.set_xlim(0,1000)\n",
    "ax.set_xticks(range(0, 20000+1, 2000))\n",
    "\n",
    "ax.set_title('Movie\\'s percentage of the total recommendations as the simulation progressed in A/B Testing Algorithm')\n",
    "ax.set_xlabel('Recommendation #')\n",
    "ax.set_ylabel('% of Recommendations')\n",
    "\n",
    "lgd = plt.legend(bbox_to_anchor=(1.02, 0.15), loc=2, borderaxespad=0., labelspacing=-2.3)\n",
    "\n",
    "ax.set_facecolor('w')\n",
    "\n",
    "plt.tight_layout()\n",
    "plt.show()"
   ]
  },
  {
   "cell_type": "code",
   "execution_count": null,
   "metadata": {},
   "outputs": [],
   "source": [
    "sns.barplot(x=np.arange(len(_item_hit_counter)), y=_item_hit_counter)\n",
    "plt.title(f'Item Hit Counter (epsilon = %.2f)' % epsilon)\n",
    "plt.xlabel('Item Index')\n",
    "plt.ylabel('Hit Count')\n",
    "top_5_indices = np.argsort(_item_hit_counter)[-5:]  # gives indices that would belong to the top 5 values\n",
    "top_5_labels = {i: str(df_epsilon_05_results[\"item_id\"].iloc[i]) for i in top_5_indices}\n",
    "\n",
    "plt.xticks(ticks=np.arange(len(_item_hit_counter)), labels=[top_5_labels.get(i, '') for i in range(len(_item_hit_counter))], rotation=90)\n",
    "plt.show()"
   ]
  },
  {
   "cell_type": "code",
   "execution_count": null,
   "metadata": {},
   "outputs": [],
   "source": [
    "plt.figure(figsize=(12, 8))\n",
    "plt.scatter(df_epsilon_05_results['recomendation'], df_epsilon_05_results['item_id'], alpha=0.5, c='blue', s=10)\n",
    "plt.title(f'Item Usage Over Recommendations (epsilon = %.2f)' % epsilon)\n",
    "plt.xlabel('Recommendation Number')\n",
    "plt.ylabel('Item ID')\n",
    "plt.grid(True)\n",
    "plt.show()"
   ]
  },
  {
   "cell_type": "code",
   "execution_count": null,
   "metadata": {},
   "outputs": [],
   "source": [
    "_avg_window = 100 \n",
    "\n",
    "sns.lineplot(data=pd.DataFrame(_tuple_tries).rolling(_avg_window).mean())\n",
    "plt.title(f'Rolling Average of _tuple_tries (epsilon = %.2f)' % epsilon)\n",
    "plt.xlabel('Replay Round Number')\n",
    "plt.ylabel('Rolling Average')\n",
    "plt.legend([\"Window: \"+str(_avg_window)])\n",
    "plt.show()"
   ]
  },
  {
   "cell_type": "code",
   "execution_count": null,
   "metadata": {},
   "outputs": [],
   "source": [
    "n_recommendations = 5000\n",
    "n_iterations = 5"
   ]
  },
  {
   "cell_type": "markdown",
   "metadata": {},
   "source": [
    "MAB-training using our replay machine: "
   ]
  },
  {
   "cell_type": "code",
   "execution_count": null,
   "metadata": {},
   "outputs": [],
   "source": [
    "epsilon = 0.05\n",
    "\n",
    "epsilon_05_results, df_05_reward_results = EpsilonTrainer(\n",
    "    epsilon=epsilon,\n",
    "    reward_database=df,\n",
    "    item_col_name=\"item_id\",\n",
    "    user_col_name=\"user_id\",\n",
    "    reward_col_name=\"liked\",\n",
    "    n_recommendations=n_recommendations,\n",
    "    n_iterations=n_iterations \n",
    ").replay()\n",
    "\n",
    "df_epsilon_05_results = pd.DataFrame(epsilon_05_results)"
   ]
  },
  {
   "cell_type": "code",
   "execution_count": null,
   "metadata": {},
   "outputs": [],
   "source": [
    "epsilon = 0.10\n",
    "\n",
    "epsilon_10_results, df_10_reward_results = EpsilonTrainer(\n",
    "    epsilon=epsilon,\n",
    "    reward_database=df,\n",
    "    item_col_name=\"item_id\",\n",
    "    user_col_name=\"user_id\",\n",
    "    reward_col_name=\"liked\",\n",
    "    n_recommendations=n_recommendations,\n",
    "    n_iterations=n_iterations \n",
    ").replay()\n",
    "\n",
    "df_epsilon_10_results = pd.DataFrame(epsilon_10_results)"
   ]
  },
  {
   "cell_type": "code",
   "execution_count": null,
   "metadata": {},
   "outputs": [],
   "source": [
    "\n",
    "df_epsilon_05_results_mean = df_epsilon_05_results.groupby('recomendation', as_index=False).mean()\n",
    "\n",
    "df_epsilon_10_results_mean = df_epsilon_10_results.groupby('recomendation', as_index=False).mean()"
   ]
  },
  {
   "cell_type": "markdown",
   "metadata": {},
   "source": [
    "## Evaluation"
   ]
  },
  {
   "cell_type": "code",
   "execution_count": null,
   "metadata": {},
   "outputs": [],
   "source": [
    "print(df.head())"
   ]
  },
  {
   "cell_type": "code",
   "execution_count": null,
   "metadata": {},
   "outputs": [],
   "source": [
    "# finding the most liked movie (in percentage)\n",
    "df_counted_per_item = df[\"item_id\"].value_counts().reset_index()\n",
    "print(df_counted_per_item.head())\n",
    "_max = max(df_counted_per_item[\"count\"])\n",
    "print(\"Max value is \", _max)\n",
    "\n",
    "# Calculate the threshold for the top 25%\n",
    "threshold = df_counted_per_item.quantile(0.75).iloc[0]\n",
    "print(\"Threshold is \", threshold)\n",
    "\n",
    "# Filter DataFrame to get only rows with values in the top 25%\n",
    "top_25_percent_df = df_counted_per_item[df_counted_per_item[\"count\"] >= threshold]\n",
    "\n",
    "print(\"# df:\", len(df_counted_per_item), \";  # df.75:\", len(top_25_percent_df))\n",
    "\n",
    "\n",
    "# -- . -- . -- . -- . -- . -- . -- . --\n",
    "\n",
    "# top_25_items = top_25_percent_df.\n",
    "top_25_percent_df"
   ]
  },
  {
   "cell_type": "code",
   "execution_count": null,
   "metadata": {},
   "outputs": [],
   "source": [
    "fig, ax = plt.subplots(figsize=(8,6))\n",
    "\n",
    "for (avg_results_df, style, label) in [(df_epsilon_10_results_mean[10:], 'g-', \"epsilon 0.10\"), # NOTE: offset of 10 elements to not start at 1 peak\n",
    "                                (df_epsilon_05_results_mean[10:], 'r--', \"epsilon 0.05\"),\n",
    "                                ]:\n",
    "    \n",
    "    ax.plot(avg_results_df.recomendation, avg_results_df.like_fraction, style, linewidth=1.5, label=label)\n",
    "\n",
    "# ax.axhline(y=0.85, color='k', linestyle=':', linewidth=1.5)\n",
    "\n",
    "ax.set_title('Percentage of Liked Recommendations')\n",
    "ax.set_xlabel('Recommendation #')\n",
    "ax.set_ylabel('% of Recs Liked')\n",
    "\n",
    "# ax.set_xticks(range(0,22000,5000))\n",
    "# ax.set_ylim(0.2, 0.6)\n",
    "# ax.set_yticks(np.arange(0.2, 0.7, 0.1))\n",
    "\n",
    "# rescale the y-axis tick labels to show them as a percentage\n",
    "ax.set_yticklabels((ax.get_yticks()*100).astype(int))\n",
    "\n",
    "ax.legend(\n",
    "          loc='lower right'\n",
    "         )\n",
    "\n",
    "plt.tight_layout()\n",
    "plt.show()"
   ]
  },
  {
   "cell_type": "code",
   "execution_count": null,
   "metadata": {},
   "outputs": [],
   "source": [
    "df_epsilon_05_results_mean"
   ]
  },
  {
   "cell_type": "code",
   "execution_count": null,
   "metadata": {},
   "outputs": [],
   "source": [
    "def get_top_5(_df) :\n",
    "    return _df.sort_values(\n",
    "                by=\"X_ratio\",\n",
    "                ascending=False\n",
    "            ).item_id[0:5].to_list()\n",
    "    \n",
    "print(get_top_5(df_epsilon_05_results_mean))\n",
    "print(get_top_5(df_epsilon_10_results_mean))\n"
   ]
  },
  {
   "cell_type": "code",
   "execution_count": null,
   "metadata": {},
   "outputs": [],
   "source": [
    "df_reward_results.sort_values(by=\"X_ratio\", ascending=False)"
   ]
  },
  {
   "cell_type": "code",
   "execution_count": null,
   "metadata": {},
   "outputs": [],
   "source": [
    "print(df_epsilon_05_results)"
   ]
  },
  {
   "cell_type": "code",
   "execution_count": null,
   "metadata": {},
   "outputs": [],
   "source": [
    "sns.lineplot(df_epsilon_05_results['like_fraction'])"
   ]
  },
  {
   "cell_type": "code",
   "execution_count": null,
   "metadata": {},
   "outputs": [],
   "source": [
    "#SRC W6\n",
    "# Create a dataframe with running totals of how many times each recommendation was taken\n",
    "epsilon_05_running_ttl = df_epsilon_05_results.query('iteration == 0') \\\n",
    "                                .assign(selected=1) \\\n",
    "                                .pivot(index='recomendation', columns='item_id', values='selected') \\\n",
    "                                .fillna(0) \\\n",
    "                                .cumsum(axis=0) \\\n",
    "                                .reset_index()\n",
    "                                \n",
    "epsilon_05_running_ttl                "
   ]
  },
  {
   "cell_type": "code",
   "execution_count": null,
   "metadata": {},
   "outputs": [],
   "source": [
    "# Create a dictionary to map item IDs to colors\n",
    "item_ids = epsilon_05_running_ttl.columns[1:]\n",
    "color_map = {item_id: f'C{i}' for i, item_id in enumerate(item_ids, start=1)}\n",
    "color_map"
   ]
  },
  {
   "cell_type": "code",
   "execution_count": null,
   "metadata": {},
   "outputs": [],
   "source": [
    "# scale the value by the visit number to get turn the running total into a percentage\n",
    "epsilon_05_running_ttl.iloc[:,1:] = epsilon_05_running_ttl.iloc[:,1:].div((epsilon_05_running_ttl.recomendation + 1)/100, axis=0)\n"
   ]
  },
  {
   "cell_type": "code",
   "execution_count": null,
   "metadata": {},
   "outputs": [],
   "source": [
    "#SRC W6\n",
    " \n",
    "fig, ax = plt.subplots(figsize=(10,8))\n",
    "\n",
    "ax.stackplot(epsilon_05_running_ttl.recomendation,\n",
    "             epsilon_05_running_ttl.iloc[:,1:100].T,\n",
    "             labels=[x for x in epsilon_05_running_ttl.iloc[:,1:].columns.values],\n",
    "             colors=[color_map[x] for x in epsilon_05_running_ttl.iloc[:,1:].columns.values],\n",
    "             lw=0.5, edgecolor='black'\n",
    "            )\n",
    "\n",
    "ax.set_xlim(0,1000)\n",
    "ax.set_xticks(range(0, 1100, 250))\n",
    "# ax.set_xticks(range(0, 20000+1, 2000))\n",
    "\n",
    "ax.set_title('Movie\\'s percentage of the total recommendations as the simulation progressed in ϵ-Greedy Algorithm')\n",
    "ax.set_xlabel('Recommendation #')\n",
    "ax.set_ylabel('% of Recommendations')\n",
    "\n",
    "# lgd = plt.legend(bbox_to_anchor=(1.02, 0.15), loc=2, borderaxespad=0., labelspacing=-2.3)\n",
    "plt.legend(loc='best')\n",
    "\n",
    "ax.set_facecolor('w')\n",
    "\n",
    "plt.tight_layout()\n",
    "plt.show()\n"
   ]
  },
  {
   "cell_type": "code",
   "execution_count": null,
   "metadata": {},
   "outputs": [],
   "source": [
    "print(df_epsilon_05_results[4:])\n",
    "df_epsilon_05_results"
   ]
  },
  {
   "cell_type": "code",
   "execution_count": null,
   "metadata": {},
   "outputs": [],
   "source": []
  }
 ],
 "metadata": {
  "kernelspec": {
   "display_name": "LLP_IS4242-LIEQS_oD",
   "language": "python",
   "name": "python3"
  },
  "language_info": {
   "codemirror_mode": {
    "name": "ipython",
    "version": 3
   },
   "file_extension": ".py",
   "mimetype": "text/x-python",
   "name": "python",
   "nbconvert_exporter": "python",
   "pygments_lexer": "ipython3",
   "version": "3.12.2"
  }
 },
 "nbformat": 4,
 "nbformat_minor": 2
}
