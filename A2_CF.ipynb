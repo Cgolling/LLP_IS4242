{
 "cells": [
  {
   "cell_type": "markdown",
   "metadata": {},
   "source": [
    "# Approach 2: Collaborative Filtering\n",
    "\n",
    "Curse: IS4242, Semster 1, 2024\n",
    "\n",
    "Team: LLP\n"
   ]
  },
  {
   "cell_type": "markdown",
   "metadata": {},
   "source": []
  }
 ],
 "metadata": {
  "language_info": {
   "name": "python"
  }
 },
 "nbformat": 4,
 "nbformat_minor": 2
}
